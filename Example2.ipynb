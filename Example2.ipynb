{
 "cells": [
  {
   "cell_type": "markdown",
   "metadata": {},
   "source": [
    "# Example 2: Boston House-Price Dataset\n",
    "In this example we will work on the <strong> Boston House-Price Dataset </strong>.<br>\n",
    "This dataset contains informations of Houses and their prices\n",
    "### NOTE\n",
    "To execute a cell, press <strong>Shift+Enter</strong>\n",
    "\n",
    "## 1. Importing Libraries\n",
    "We will need \n",
    "- numpy (NumPy) for arrays\n",
    "- pandas (Pandas) for data manipulation\n",
    "- matplotlib for visualisation\n",
    "- sklearn (Scikit-Learn) for creating, fitting and evaluating the model\n",
    "- seaborn (Seaborn), which gives a simpler syntax for visualisation\n",
    "\n",
    " "
   ]
  },
  {
   "cell_type": "code",
   "execution_count": null,
   "metadata": {},
   "outputs": [],
   "source": [
    "#Every single line comment in python starts with #\n",
    "import numpy as np\n",
    "#sklearn.datasets contains some predefined datasets\n",
    "import sklearn.datasets as ds\n",
    "#pandas is used for data manipulation\n",
    "import pandas as pd\n",
    "#matplotlib.pyplot is used for visualisation\n",
    "import matplotlib.pyplot as plt\n",
    "#seaborn is a user friendly library for visualisation built on top of matplotlib\n",
    "import seaborn as sns\n",
    "#we will use a Classification Model called LogisticRegression\n",
    "from sklearn.linear_model import LinearRegression\n",
    "#we will split the data using train_test_split\n",
    "from sklearn.model_selection import train_test_split\n",
    "#OPTIONAL: This is for evaluating a classification model\n",
    "from sklearn.metrics import confusion_matrix"
   ]
  },
  {
   "cell_type": "markdown",
   "metadata": {},
   "source": [
    "## 2. Preprocessing: Loading Boston Dataset\n",
    "We will Load here The Boston Dataset <br>\n",
    "We will then Load the $X$ values and $y$ values<br>\n",
    "Remember that:\n",
    "- $X$ is a matrix where each row describes a particular house, and each column describes a particular feature, $X$ is called the input set\n",
    "- The correspending $y$ value of the $X$ row defines the price,$y$ is called the output set\n",
    "- Based on the <strong>information learnt</strong> from $X$ and $y$, and given some <strong>new input data </strong> $X'$ we want to <strong>predict</strong> $y'$"
   ]
  },
  {
   "cell_type": "code",
   "execution_count": null,
   "metadata": {},
   "outputs": [],
   "source": [
    "#Load the Boston dataset\n",
    "boston_dataset=ds.load_boston()\n",
    "#X is a DataFrame (Matrix/2D array) containing the features of the iris data \n",
    "X=pd.DataFrame(boston_dataset[\"data\"])\n",
    "#y contains the numeric value/label of each iris flower, respecting the order \n",
    "#y is a vector (Series/1D array)\n",
    "y=pd.Series(boston_dataset[\"target\"],name =\"Price\")\n",
    "#Feature Names and removing ' (cm)'\n",
    "feature_names = boston_dataset[\"feature_names\"]\n",
    "X.columns=feature_names"
   ]
  },
  {
   "cell_type": "markdown",
   "metadata": {},
   "source": [
    "### Viewing a sample of $X$\n",
    "Complete the code below:"
   ]
  },
  {
   "cell_type": "code",
   "execution_count": null,
   "metadata": {},
   "outputs": [],
   "source": [
    "X.???"
   ]
  },
  {
   "cell_type": "markdown",
   "metadata": {},
   "source": [
    "### Viewing the first elements of $y$\n",
    "Feel free to change the number below"
   ]
  },
  {
   "cell_type": "code",
   "execution_count": null,
   "metadata": {},
   "outputs": [],
   "source": [
    "y.head(4)"
   ]
  },
  {
   "cell_type": "markdown",
   "metadata": {},
   "source": [
    "## 3. Analysing Data\n",
    "### Merging Tables\n",
    "To Analyse data, sometimes, it maybe simpler to combine the data to one table.<br>\n",
    "Complete the code below:"
   ]
  },
  {
   "cell_type": "code",
   "execution_count": null,
   "metadata": {},
   "outputs": [],
   "source": [
    "#This line combines The Input Data & The (Numerical) Ouput Data into a new Table (DataFrame)\n",
    "U=pd.concat([???,???],axis=1)\n",
    "#To see the last 10 examples\n",
    "U.???"
   ]
  },
  {
   "cell_type": "markdown",
   "metadata": {},
   "source": [
    "### Some Plottings"
   ]
  },
  {
   "cell_type": "code",
   "execution_count": null,
   "metadata": {},
   "outputs": [],
   "source": [
    "ax=sns.scatterplot(x=\"LSTAT\",y=\"Price\",data=U)\n",
    "ax.set_title(\"Relation Between LSTAT  & Price\")"
   ]
  },
  {
   "cell_type": "markdown",
   "metadata": {},
   "source": [
    "## 4. Model Selection\n",
    "### Creating Train & Test Sets\n",
    "We will Create a training set that is used to fit our model<br>\n",
    "The training data is a random sample of size $75\\%$ of the boston dataset"
   ]
  },
  {
   "cell_type": "code",
   "execution_count": null,
   "metadata": {},
   "outputs": [],
   "source": [
    "X_train,X_test,y_train,y_test=???"
   ]
  },
  {
   "cell_type": "markdown",
   "metadata": {},
   "source": [
    "### Creating & Fitting Model\n",
    "Here we will create a LinearRegression model and we will fit it against the <strong>training data</strong><br>\n",
    "Complete the code below"
   ]
  },
  {
   "cell_type": "code",
   "execution_count": null,
   "metadata": {},
   "outputs": [],
   "source": [
    "#Creating LinearRegression\n",
    "model = ???\n",
    "#Fitting Model\n",
    "model.???;"
   ]
  },
  {
   "cell_type": "markdown",
   "metadata": {},
   "source": [
    "## 5. Testing Model\n",
    "We will evaluate the accuarcy of our model with the <strong>testing data</strong><br>\n",
    "Complete the code below"
   ]
  },
  {
   "cell_type": "code",
   "execution_count": null,
   "metadata": {},
   "outputs": [],
   "source": [
    "#R² Score\n",
    "r2_score =??? \n",
    "print(\"Our model has an R² Score of {:.3f}%\".format(100*r2_score))"
   ]
  },
  {
   "cell_type": "markdown",
   "metadata": {},
   "source": [
    "## 5. Model Deployment\n",
    "Now our model is ready for use 😃<br>\n",
    "We will now save it with Pickle\n",
    "### a. Saving Model"
   ]
  },
  {
   "cell_type": "code",
   "execution_count": null,
   "metadata": {},
   "outputs": [],
   "source": [
    "from joblib import dump, load\n",
    "dump(model, \"boston_model.joblib\") "
   ]
  },
  {
   "cell_type": "markdown",
   "metadata": {},
   "source": [
    "### b. Loading the Saved Model"
   ]
  },
  {
   "cell_type": "code",
   "execution_count": null,
   "metadata": {},
   "outputs": [],
   "source": [
    "model2 = load(\"boston_model.joblib\")"
   ]
  }
 ],
 "metadata": {
  "kernelspec": {
   "display_name": "Python 3",
   "language": "python",
   "name": "python3"
  },
  "language_info": {
   "codemirror_mode": {
    "name": "ipython",
    "version": 3
   },
   "file_extension": ".py",
   "mimetype": "text/x-python",
   "name": "python",
   "nbconvert_exporter": "python",
   "pygments_lexer": "ipython3",
   "version": "3.7.9"
  }
 },
 "nbformat": 4,
 "nbformat_minor": 4
}
