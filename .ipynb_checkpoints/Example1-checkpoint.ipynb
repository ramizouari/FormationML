{
 "cells": [
  {
   "cell_type": "markdown",
   "metadata": {},
   "source": [
    "# Example 1: Iris Dataset (A)\n",
    "In this example we will learn how to create a <strong> Machine Learning Model</strong>.<br>\n",
    "We will work on the <strong> Iris Dataset </strong>.<br>\n",
    "This dataset contains informations of 3 flowers that belong to the Iris species.<br>\n",
    "<p style=\"text-align:center;\"><img src=\"Example1/iris_image.png\"></p>\n",
    "\n",
    "### NOTE\n",
    "To execute a cell, press <strong>Shift+Enter</strong>\n",
    "\n",
    "## 1. Importing Libraries\n",
    "We will need \n",
    "- numpy (NumPy) for arrays\n",
    "- pandas (Pandas) for data manipulation\n",
    "- matplotlib for visualisation\n",
    "- sklearn (Scikit-Learn) for creating, fitting and evaluating the model\n",
    "- seaborn (Seaborn), which gives a simpler syntax for visualisation\n",
    "\n",
    " "
   ]
  },
  {
   "cell_type": "code",
   "execution_count": 2,
   "metadata": {},
   "outputs": [
    {
     "name": "stdout",
     "output_type": "stream",
     "text": [
      "Libraries were successfully imported\n"
     ]
    }
   ],
   "source": [
    "#Every single line comment in python starts with #\n",
    "import numpy as np\n",
    "#sklearn.datasets contains some predefined datasets\n",
    "import sklearn.datasets as ds\n",
    "#pandas is used for data manipulation\n",
    "import pandas as pd\n",
    "#matplotlib.pyplot is used for visualisation\n",
    "import matplotlib.pyplot as plt\n",
    "#seaborn is a user friendly library for visualisation built on top of matplotlib\n",
    "import seaborn as sns\n",
    "#we will use a Classification Model called LogisticRegression\n",
    "from sklearn.linear_model import LogisticRegression\n",
    "#we will split the data using train_test_split\n",
    "from sklearn.model_selection import train_test_split\n",
    "#OPTIONAL: This is for evaluating a classification model\n",
    "from sklearn.metrics import confusion_matrix\n",
    "print(\"Libraries were successfully imported\")"
   ]
  },
  {
   "cell_type": "markdown",
   "metadata": {},
   "source": [
    "## 2. Preprocessing: Loading Iris Dataset\n",
    "We will Load here The Iris Dataset <br>\n",
    "We will then Load the $X$ values and $y$ values<br>\n",
    "- $X$ is a matrix where each row describes a particular flower, and each column describes a particular feature, $X$ is called the input set\n",
    "- The correspending $y$ value of the $X$ row defines the flower group,$y$ is called the output set\n",
    "- A feature is some given characteristic used to predict \n",
    "\n",
    "$\\implies$ We want to predict the flower group from its characteristics. \n",
    "\n",
    "In other words, based on the <strong>information learnt</strong> from $X$ and $y$, and given some <strong>new input data </strong> $X'$ we want to <strong>predict</strong> $y'$"
   ]
  },
  {
   "cell_type": "code",
   "execution_count": 3,
   "metadata": {},
   "outputs": [],
   "source": [
    "#Load the IRIS dataset\n",
    "iris_dataset=ds.load_iris()\n",
    "#X is a DataFrame (Matrix/2D array) containing the features of the iris data \n",
    "X=pd.DataFrame(iris_dataset[\"data\"])\n",
    "#y contains the numeric value/label of each iris flower, respecting the order \n",
    "#y is a vector (Series/1D array)\n",
    "y=pd.Series(iris_dataset[\"target\"],name =\"Target\")\n",
    "#y_name contains the true name of each iris flower\n",
    "y_name=pd.Series(iris_dataset[\"target_names\"],name=\"Species\")\n",
    "#Feature Names and removing ' (cm)'\n",
    "feature_names = [feature_name[:-5] for feature_name in iris_dataset[\"feature_names\"]]\n",
    "X.columns=feature_names"
   ]
  },
  {
   "cell_type": "markdown",
   "metadata": {},
   "source": [
    "### Viewing a sample of $X$\n",
    "Feel free to change the number of samples"
   ]
  },
  {
   "cell_type": "code",
   "execution_count": 5,
   "metadata": {},
   "outputs": [
    {
     "data": {
      "text/html": [
       "<div>\n",
       "<style scoped>\n",
       "    .dataframe tbody tr th:only-of-type {\n",
       "        vertical-align: middle;\n",
       "    }\n",
       "\n",
       "    .dataframe tbody tr th {\n",
       "        vertical-align: top;\n",
       "    }\n",
       "\n",
       "    .dataframe thead th {\n",
       "        text-align: right;\n",
       "    }\n",
       "</style>\n",
       "<table border=\"1\" class=\"dataframe\">\n",
       "  <thead>\n",
       "    <tr style=\"text-align: right;\">\n",
       "      <th></th>\n",
       "      <th>sepal length</th>\n",
       "      <th>sepal width</th>\n",
       "      <th>petal length</th>\n",
       "      <th>petal width</th>\n",
       "    </tr>\n",
       "  </thead>\n",
       "  <tbody>\n",
       "    <tr>\n",
       "      <th>61</th>\n",
       "      <td>5.9</td>\n",
       "      <td>3.0</td>\n",
       "      <td>4.2</td>\n",
       "      <td>1.5</td>\n",
       "    </tr>\n",
       "    <tr>\n",
       "      <th>23</th>\n",
       "      <td>5.1</td>\n",
       "      <td>3.3</td>\n",
       "      <td>1.7</td>\n",
       "      <td>0.5</td>\n",
       "    </tr>\n",
       "    <tr>\n",
       "      <th>131</th>\n",
       "      <td>7.9</td>\n",
       "      <td>3.8</td>\n",
       "      <td>6.4</td>\n",
       "      <td>2.0</td>\n",
       "    </tr>\n",
       "    <tr>\n",
       "      <th>69</th>\n",
       "      <td>5.6</td>\n",
       "      <td>2.5</td>\n",
       "      <td>3.9</td>\n",
       "      <td>1.1</td>\n",
       "    </tr>\n",
       "    <tr>\n",
       "      <th>66</th>\n",
       "      <td>5.6</td>\n",
       "      <td>3.0</td>\n",
       "      <td>4.5</td>\n",
       "      <td>1.5</td>\n",
       "    </tr>\n",
       "  </tbody>\n",
       "</table>\n",
       "</div>"
      ],
      "text/plain": [
       "     sepal length  sepal width  petal length  petal width\n",
       "61            5.9          3.0           4.2          1.5\n",
       "23            5.1          3.3           1.7          0.5\n",
       "131           7.9          3.8           6.4          2.0\n",
       "69            5.6          2.5           3.9          1.1\n",
       "66            5.6          3.0           4.5          1.5"
      ]
     },
     "execution_count": 5,
     "metadata": {},
     "output_type": "execute_result"
    }
   ],
   "source": [
    "X.sample(5)"
   ]
  },
  {
   "cell_type": "markdown",
   "metadata": {},
   "source": [
    "### Viewing the first elements of $y$\n",
    "Feel free to change the number below"
   ]
  },
  {
   "cell_type": "code",
   "execution_count": 6,
   "metadata": {},
   "outputs": [
    {
     "data": {
      "text/plain": [
       "22     0\n",
       "100    2\n",
       "129    2\n",
       "72     1\n",
       "62     1\n",
       "Name: Target, dtype: int32"
      ]
     },
     "execution_count": 6,
     "metadata": {},
     "output_type": "execute_result"
    }
   ],
   "source": [
    "y.sample(5)"
   ]
  },
  {
   "cell_type": "markdown",
   "metadata": {},
   "source": [
    "### Viewing <code>y_name</code>\n",
    "y_label here defines a mapping between the numerical value and the flower species"
   ]
  },
  {
   "cell_type": "code",
   "execution_count": 7,
   "metadata": {},
   "outputs": [
    {
     "data": {
      "text/plain": [
       "0        setosa\n",
       "1    versicolor\n",
       "2     virginica\n",
       "Name: Species, dtype: object"
      ]
     },
     "execution_count": 7,
     "metadata": {},
     "output_type": "execute_result"
    }
   ],
   "source": [
    "y_name"
   ]
  },
  {
   "cell_type": "markdown",
   "metadata": {},
   "source": [
    "## 3. Analysing Data\n",
    "### Understanding Features\n",
    "<p style=\"text-align:center;\"><img src=\"Example1/iris_description.jpg\"></p>\n",
    "\n",
    "### Merging Tables\n",
    "To Analyse data, sometimes, it maybe simpler to combine the data to one table "
   ]
  },
  {
   "cell_type": "code",
   "execution_count": 8,
   "metadata": {},
   "outputs": [
    {
     "data": {
      "text/html": [
       "<div>\n",
       "<style scoped>\n",
       "    .dataframe tbody tr th:only-of-type {\n",
       "        vertical-align: middle;\n",
       "    }\n",
       "\n",
       "    .dataframe tbody tr th {\n",
       "        vertical-align: top;\n",
       "    }\n",
       "\n",
       "    .dataframe thead th {\n",
       "        text-align: right;\n",
       "    }\n",
       "</style>\n",
       "<table border=\"1\" class=\"dataframe\">\n",
       "  <thead>\n",
       "    <tr style=\"text-align: right;\">\n",
       "      <th></th>\n",
       "      <th>sepal length</th>\n",
       "      <th>sepal width</th>\n",
       "      <th>petal length</th>\n",
       "      <th>petal width</th>\n",
       "      <th>Target</th>\n",
       "      <th>Species</th>\n",
       "    </tr>\n",
       "  </thead>\n",
       "  <tbody>\n",
       "    <tr>\n",
       "      <th>140</th>\n",
       "      <td>6.7</td>\n",
       "      <td>3.1</td>\n",
       "      <td>5.6</td>\n",
       "      <td>2.4</td>\n",
       "      <td>2</td>\n",
       "      <td>virginica</td>\n",
       "    </tr>\n",
       "    <tr>\n",
       "      <th>141</th>\n",
       "      <td>6.9</td>\n",
       "      <td>3.1</td>\n",
       "      <td>5.1</td>\n",
       "      <td>2.3</td>\n",
       "      <td>2</td>\n",
       "      <td>virginica</td>\n",
       "    </tr>\n",
       "    <tr>\n",
       "      <th>142</th>\n",
       "      <td>5.8</td>\n",
       "      <td>2.7</td>\n",
       "      <td>5.1</td>\n",
       "      <td>1.9</td>\n",
       "      <td>2</td>\n",
       "      <td>virginica</td>\n",
       "    </tr>\n",
       "    <tr>\n",
       "      <th>143</th>\n",
       "      <td>6.8</td>\n",
       "      <td>3.2</td>\n",
       "      <td>5.9</td>\n",
       "      <td>2.3</td>\n",
       "      <td>2</td>\n",
       "      <td>virginica</td>\n",
       "    </tr>\n",
       "    <tr>\n",
       "      <th>144</th>\n",
       "      <td>6.7</td>\n",
       "      <td>3.3</td>\n",
       "      <td>5.7</td>\n",
       "      <td>2.5</td>\n",
       "      <td>2</td>\n",
       "      <td>virginica</td>\n",
       "    </tr>\n",
       "    <tr>\n",
       "      <th>145</th>\n",
       "      <td>6.7</td>\n",
       "      <td>3.0</td>\n",
       "      <td>5.2</td>\n",
       "      <td>2.3</td>\n",
       "      <td>2</td>\n",
       "      <td>virginica</td>\n",
       "    </tr>\n",
       "    <tr>\n",
       "      <th>146</th>\n",
       "      <td>6.3</td>\n",
       "      <td>2.5</td>\n",
       "      <td>5.0</td>\n",
       "      <td>1.9</td>\n",
       "      <td>2</td>\n",
       "      <td>virginica</td>\n",
       "    </tr>\n",
       "    <tr>\n",
       "      <th>147</th>\n",
       "      <td>6.5</td>\n",
       "      <td>3.0</td>\n",
       "      <td>5.2</td>\n",
       "      <td>2.0</td>\n",
       "      <td>2</td>\n",
       "      <td>virginica</td>\n",
       "    </tr>\n",
       "    <tr>\n",
       "      <th>148</th>\n",
       "      <td>6.2</td>\n",
       "      <td>3.4</td>\n",
       "      <td>5.4</td>\n",
       "      <td>2.3</td>\n",
       "      <td>2</td>\n",
       "      <td>virginica</td>\n",
       "    </tr>\n",
       "    <tr>\n",
       "      <th>149</th>\n",
       "      <td>5.9</td>\n",
       "      <td>3.0</td>\n",
       "      <td>5.1</td>\n",
       "      <td>1.8</td>\n",
       "      <td>2</td>\n",
       "      <td>virginica</td>\n",
       "    </tr>\n",
       "  </tbody>\n",
       "</table>\n",
       "</div>"
      ],
      "text/plain": [
       "     sepal length  sepal width  petal length  petal width  Target    Species\n",
       "140           6.7          3.1           5.6          2.4       2  virginica\n",
       "141           6.9          3.1           5.1          2.3       2  virginica\n",
       "142           5.8          2.7           5.1          1.9       2  virginica\n",
       "143           6.8          3.2           5.9          2.3       2  virginica\n",
       "144           6.7          3.3           5.7          2.5       2  virginica\n",
       "145           6.7          3.0           5.2          2.3       2  virginica\n",
       "146           6.3          2.5           5.0          1.9       2  virginica\n",
       "147           6.5          3.0           5.2          2.0       2  virginica\n",
       "148           6.2          3.4           5.4          2.3       2  virginica\n",
       "149           5.9          3.0           5.1          1.8       2  virginica"
      ]
     },
     "execution_count": 8,
     "metadata": {},
     "output_type": "execute_result"
    }
   ],
   "source": [
    "#This is an example of functional programming\n",
    "#The first line combines The Input Data & The (Numerical) Ouput Data into a new Table (DataFrame)\n",
    "#The second line adds a new column to the DataFrame with the Target Label\n",
    "#The '\\' is just used to expand the following long instruction:\n",
    "#pd.concat([X,y],axis=1).join(y_name,on=\"Target\")\n",
    "#to two lines \n",
    "U=pd.concat([X,y],axis=1)\\\n",
    ".join(y_name,on=\"Target\")\n",
    "#To see the last 10 examples\n",
    "U.tail(10)"
   ]
  },
  {
   "cell_type": "markdown",
   "metadata": {},
   "source": [
    "### Some Plottings"
   ]
  },
  {
   "cell_type": "code",
   "execution_count": 9,
   "metadata": {},
   "outputs": [
    {
     "data": {
      "text/plain": [
       "Text(0.5, 1.0, 'Plot $1$: Relation Between Sepal Length & Sepal Width in cm')"
      ]
     },
     "execution_count": 9,
     "metadata": {},
     "output_type": "execute_result"
    },
    {
     "data": {
      "image/png": "[encoded data removed]",
      "text/plain": [
       "<Figure size 432x288 with 1 Axes>"
      ]
     },
     "metadata": {
      "needs_background": "light"
     },
     "output_type": "display_data"
    }
   ],
   "source": [
    "#Plot 1\n",
    "ax=sns.scatterplot(x=\"sepal length\",y=\"sepal width\",hue=\"Species\",data=U)\n",
    "ax.set_title(\"Plot $1$: Relation Between Sepal Length & Sepal Width in cm\")"
   ]
  },
  {
   "cell_type": "code",
   "execution_count": 10,
   "metadata": {},
   "outputs": [
    {
     "data": {
      "text/plain": [
       "Text(0.5, 1.0, 'Plot $2$: Relation Between Sepal Length & Petal Width in cm')"
      ]
     },
     "execution_count": 10,
     "metadata": {},
     "output_type": "execute_result"
    },
    {
     "data": {
      "image/png": "[encoded data removed]",
      "text/plain": [
       "<Figure size 432x288 with 1 Axes>"
      ]
     },
     "metadata": {
      "needs_background": "light"
     },
     "output_type": "display_data"
    }
   ],
   "source": [
    "#Plot 2\n",
    "ax=sns.scatterplot(x=\"sepal length\",y=\"petal width\",hue=\"Species\",data=U)\n",
    "ax.set_title(\"Plot $2$: Relation Between Sepal Length & Petal Width in cm\")"
   ]
  },
  {
   "cell_type": "markdown",
   "metadata": {},
   "source": [
    "### Observation\n",
    "We see that the second plot gives us a pattern on how the <strong>flower types are seperated</strong>\n",
    "### To DO\n",
    "You can explore other relations by changing the features name in the code below"
   ]
  },
  {
   "cell_type": "code",
   "execution_count": null,
   "metadata": {},
   "outputs": [],
   "source": [
    "#This is a list of the feature names\n",
    "feature_names"
   ]
  },
  {
   "cell_type": "code",
   "execution_count": null,
   "metadata": {},
   "outputs": [],
   "source": [
    "try:\n",
    "    ax=sns.scatterplot(x=\"feature name 1\",y=\"feature name 2\",hue=\"Species\",data=U)\n",
    "    ax.set_title(\"Congratulations on your first Plot!\")\n",
    "#This is an example of exception Handling in Python\n",
    "except:\n",
    "    print(\"Verify the features' names!\")"
   ]
  },
  {
   "cell_type": "markdown",
   "metadata": {},
   "source": [
    "## 4. Model Selection\n",
    "### Creating Train & Test Sets\n",
    "We will Create a training set that is used to fit our model<br>\n",
    "The training data is a random sample of size $80\\%$ of the iris dataset\n",
    "\n",
    "Feel Free to change the <code>train_size</code>, but note that it should be between $0.5$ and $0.9$ "
   ]
  },
  {
   "cell_type": "code",
   "execution_count": 12,
   "metadata": {},
   "outputs": [],
   "source": [
    "#This is an example of multiple return values in Python\n",
    "X_train,X_test,y_train,y_test=train_test_split(X,y,train_size=.8)"
   ]
  },
  {
   "cell_type": "markdown",
   "metadata": {},
   "source": [
    "### Creating & Fitting Model\n",
    "Here we will create a LogisticRegression model and we will fit it against the <strong>training data</strong><br>\n",
    "Feel free to change the constant $C>0,$ and see how it affects accuarcy"
   ]
  },
  {
   "cell_type": "code",
   "execution_count": 13,
   "metadata": {},
   "outputs": [],
   "source": [
    "#Creating Model\n",
    "model = LogisticRegression(C=1,max_iter=1000)\n",
    "#Fitting Model\n",
    "#A semi-colon ';' is used to suppress output, Try to remove it and see the difference\n",
    "model.fit(X_train,y_train);"
   ]
  },
  {
   "cell_type": "markdown",
   "metadata": {},
   "source": [
    "## 5. Testing Model\n",
    "We will evaluate the accuarcy of our model with the <strong>testing data</strong>"
   ]
  },
  {
   "cell_type": "code",
   "execution_count": 14,
   "metadata": {},
   "outputs": [
    {
     "name": "stdout",
     "output_type": "stream",
     "text": [
      "Our model has an accuarcy of 96.667%\n"
     ]
    },
    {
     "data": {
      "image/png": "[encoded data removed]",
      "text/plain": [
       "<Figure size 432x288 with 2 Axes>"
      ]
     },
     "metadata": {
      "needs_background": "light"
     },
     "output_type": "display_data"
    }
   ],
   "source": [
    "#This is an example of string formatting in Python\n",
    "print(\"Our model has an accuarcy of {:.3f}%\".format(100*model.score(X_test,y_test)))\n",
    "#OPTIONAL: uncomment the following lines to see details about model prediction\n",
    "h_map=sns.heatmap(confusion_matrix(y_test,model.predict(X_test)),annot=True,xticklabels=y_name,yticklabels=y_name)\n",
    "h_map.set_title(\"Relation Between Predicted Values & Correct Values\")\n",
    "h_map.set_ylabel(\"Correct Values\")\n",
    "h_map.set_xlabel(\"Predicted Values\");"
   ]
  },
  {
   "cell_type": "markdown",
   "metadata": {},
   "source": [
    "## 5. Model Deployment\n",
    "Now our model is ready for use 😃<br>\n",
    "Predicting a value"
   ]
  },
  {
   "cell_type": "markdown",
   "metadata": {},
   "source": [
    "# Example 1: Iris Dataset, but more deep (B)\n",
    "In this section we will create a <strong> Deep Learning model </strong>\n",
    "## 1. Importing Libraries"
   ]
  },
  {
   "cell_type": "code",
   "execution_count": 15,
   "metadata": {},
   "outputs": [],
   "source": [
    "import tensorflow as tf\n",
    "from tensorflow import keras\n",
    "from tensorflow.keras import layers"
   ]
  },
  {
   "cell_type": "markdown",
   "metadata": {},
   "source": [
    "# 2. Designing a Neural Network"
   ]
  },
  {
   "cell_type": "code",
   "execution_count": 16,
   "metadata": {},
   "outputs": [],
   "source": [
    "#input layer\n",
    "inputs = tf.keras.Input(shape=(4,))\n",
    "#hidden layer\n",
    "hidden = tf.keras.layers.Dense(3, activation=tf.nn.softmax)(inputs)\n",
    "#output layer\n",
    "outputs = tf.keras.layers.Dense(3, activation=tf.nn.softmax)(hidden)\n",
    "deep_model = tf.keras.Model(inputs=inputs, outputs=outputs)"
   ]
  },
  {
   "cell_type": "markdown",
   "metadata": {},
   "source": [
    "## 3. Compiling Design & Fitting the Model\n",
    "A Keras Model will memorize <strong> its progress.</strong><br>\n",
    "You can train it more then once"
   ]
  },
  {
   "cell_type": "code",
   "execution_count": 17,
   "metadata": {},
   "outputs": [
    {
     "data": {
      "text/plain": [
       "<tensorflow.python.keras.callbacks.History at 0x126fbd01748>"
      ]
     },
     "execution_count": 17,
     "metadata": {},
     "output_type": "execute_result"
    }
   ],
   "source": [
    "deep_model.compile(optimizer='adam',\n",
    "              loss=tf.keras.losses.SparseCategoricalCrossentropy(from_logits=True),\n",
    "              metrics=['accuracy'])\n",
    "deep_model.fit(X_train,y_train,epochs=1000,verbose=0)"
   ]
  },
  {
   "cell_type": "markdown",
   "metadata": {},
   "source": [
    "# 4. Evaluating \n",
    "## 4.1 Accuarcy\n",
    "Each time you retrain the model,its accuarcy will keep improving"
   ]
  },
  {
   "cell_type": "code",
   "execution_count": 18,
   "metadata": {},
   "outputs": [
    {
     "name": "stdout",
     "output_type": "stream",
     "text": [
      "1/1 [==============================] - 0s 149ms/step - loss: 0.5842 - accuracy: 1.0000\n"
     ]
    },
    {
     "data": {
      "text/plain": [
       "[0.5842311382293701, 1.0]"
      ]
     },
     "execution_count": 18,
     "metadata": {},
     "output_type": "execute_result"
    }
   ],
   "source": [
    "deep_model.evaluate(X_test,y_test)"
   ]
  },
  {
   "cell_type": "markdown",
   "metadata": {},
   "source": [
    "## 4.2 Accuarcy Improvement per Epoch\n",
    "We can even visualise how model accuarcy improve every <code>epoch_lim</code><br>\n",
    "Note that every time you execute, you will find a <strong>different curve</strong>, this is explained by the fact a deep learning algorithm always has <strong>a random</strong> starting point.<br>\n",
    "Furthermore, in general, it may <strong>fail</strong> to spot the optimal model, it will only return a \"locally\" optimal model.<br>"
   ]
  },
  {
   "cell_type": "code",
   "execution_count": null,
   "metadata": {},
   "outputs": [],
   "source": [
    "def plot_accaurcy(X_train,y_train,epoch_lim,n):\n",
    "    inputs = tf.keras.Input(shape=(4,))\n",
    "    outputs = tf.keras.layers.Dense(3, activation=tf.nn.softmax)(inputs)\n",
    "    deep_model = tf.keras.Model(inputs=inputs, outputs=outputs)\n",
    "    deep_model.compile(optimizer='adam',\n",
    "              loss=tf.keras.losses.SparseCategoricalCrossentropy(from_logits=True),\n",
    "              metrics=['accuracy'])\n",
    "    E=range(0,epoch_lim*n,epoch_lim)\n",
    "    Acc=np.zeros(n)\n",
    "    for i in range(n):\n",
    "        deep_model.fit(X_train,y_train,epochs=epoch_lim,verbose=0)\n",
    "        _,Acc[i]=deep_model.evaluate(X_test,y_test,verbose=0)\n",
    "    ax=sns.lineplot(x=E,y=Acc)\n",
    "    ax.set_title(\"Accuarcy evolution per epoch\")\n",
    "    ax.set_xlabel(\"Epoch\")\n",
    "    ax.set_ylabel(\"Accaurcy\")\n",
    "    return ax\n",
    "plot_accaurcy(X_train,y_train,50,10)"
   ]
  },
  {
   "cell_type": "markdown",
   "metadata": {},
   "source": [
    "## 5. Model Deployment\n",
    "Now our model is ready for use 😃<br>\n",
    "Next time We will save it with Pickle."
   ]
  }
 ],
 "metadata": {
  "kernelspec": {
   "display_name": "Python 3",
   "language": "python",
   "name": "python3"
  },
  "language_info": {
   "codemirror_mode": {
    "name": "ipython",
    "version": 3
   },
   "file_extension": ".py",
   "mimetype": "text/x-python",
   "name": "python",
   "nbconvert_exporter": "python",
   "pygments_lexer": "ipython3",
   "version": "3.7.9"
  }
 },
 "nbformat": 4,
 "nbformat_minor": 4
}
