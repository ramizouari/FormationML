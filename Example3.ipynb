{
 "cells": [
  {
   "cell_type": "markdown",
   "metadata": {},
   "source": [
    "# Example 3: Digit Dataset (A)\n",
    "In this example we will work on <strong> Digit Recognition </strong>.<br>\n",
    "This Dataset contains for each image the values of its $64=8 \\times 8$ <strong>greyscale pixels</strong> and the value of the <strong>Digit</strong> <br>\n",
    "<p style=\"text-align:center;\"><img src=\"Example3/digits_image.png\" class=\"center\"></p>\n",
    "\n",
    "### NOTE\n",
    "To execute a cell, press <strong>Shift+Enter</strong>\n",
    "\n",
    "## 0. Helper Class\n",
    "<code> ImagePredictor </code> is a class that facilates predicting photos"
   ]
  },
  {
   "cell_type": "code",
   "execution_count": 3,
   "metadata": {},
   "outputs": [
    {
     "name": "stdout",
     "output_type": "stream",
     "text": [
      "Good Job!\n"
     ]
    }
   ],
   "source": [
    "class ImagePredictor:\n",
    "    def __init__(self,model,dim,max_val=255):\n",
    "        self.model=model\n",
    "        self.dim=dim\n",
    "        self.max_val=max_val\n",
    "        pass\n",
    "    \n",
    "    def fit(X,y):\n",
    "        model.fit(np.reshape(X,[X.shape[0],dim[0]*dim[1]]),y)\n",
    "        return self\n",
    "#Predict a Single Image\n",
    "    def predict_one(self,img,pix_max_val=255,invert=False):\n",
    "        img2=np.copy(img)\n",
    "        img2 = img2.astype(np.float64)\n",
    "        img2=cv2.resize(img2,self.dim)\n",
    "        img2= img2*self.max_val/pix_max_val\n",
    "        if invert:\n",
    "            img2=self.max_val-img2 \n",
    "        return self.model.predict([img2.flatten()])[0]\n",
    "#Predict an array of images (a 3D Array)\n",
    "    def predict(self,img,pix_max_val=255,invert=False):\n",
    "        img=img.astype(np.float64)\n",
    "        img2 = np.zeros([img.shape[0],*self.dim])\n",
    "        for k in range(img.shape[0]):\n",
    "            img2[k,:,:]=cv2.resize(img[k,:,:],self.dim)\n",
    "            img2[k,:,:]= img2[k,:,:]*self.max_val/pix_max_val\n",
    "            if invert:\n",
    "                img2[k,:,:]=self.max_val-img2[k,:,:]\n",
    "#        return np.array([self.predict_one(img2[s,:,:]) for s in range(img.shape[0]) ])\n",
    "        return self.model.predict(np.reshape(img2,[img2.shape[0],self.dim[0]*self.dim[1]]))\n",
    "    def score(self,X,y,pix_max_val=255,invert=False):\n",
    "        return (self.predict(X,pix_max_val,invert)==y).mean()\n",
    "    \n",
    "    def unroll(img,pix_max_val=255,invert=False):\n",
    "        img2 = np.zeros([img.shape[0],*self.dim])\n",
    "        for k in range(img.shape[0]):\n",
    "            img2[k,:,:]=cv2.resize(img[k,:,:],self.dim)\n",
    "            img2[k,:,:]= img2[k,:,:]*self.max_val/pix_max_val\n",
    "            if invert:\n",
    "                img2[k,:,:]=self.max_val-img2[k,:,:]\n",
    "        return img2\n",
    "        \n",
    "    pass\n",
    "print(\"Good Job!\")"
   ]
  },
  {
   "cell_type": "markdown",
   "metadata": {},
   "source": [
    "## 1. Importing Libraries\n",
    "We will need \n",
    "- numpy (NumPy) for arrays\n",
    "- pandas (Pandas) for data manipulation\n",
    "- matplotlib for visualisation\n",
    "- sklearn (Scikit-Learn) for creating, fitting and evaluating the model\n",
    "- seaborn (Seaborn), which gives a simpler syntax for visualisation\n",
    "\n",
    " "
   ]
  },
  {
   "cell_type": "code",
   "execution_count": 4,
   "metadata": {},
   "outputs": [
    {
     "name": "stdout",
     "output_type": "stream",
     "text": [
      "Libraries are Imported\n"
     ]
    }
   ],
   "source": [
    "#Every single line comment in python starts with #\n",
    "import numpy as np\n",
    "#sklearn.datasets contains some predefined datasets\n",
    "import sklearn.datasets as ds\n",
    "#pandas is used for data manipulation\n",
    "import pandas as pd\n",
    "#matplotlib.pyplot is used for visualisation\n",
    "import matplotlib\n",
    "import matplotlib.pyplot as plt\n",
    "import matplotlib.gridspec as grd\n",
    "#seaborn is a user friendly library for visualisation built on top of matplotlib\n",
    "import seaborn as sns\n",
    "#we will use a Classification Model called SVC: Support Vector Classifier\n",
    "import sklearn.datasets as ds\n",
    "from sklearn.svm import SVC\n",
    "#we will compare it to a linear Model: LogisticRegression\n",
    "from sklearn.linear_model import LogisticRegression\n",
    "#we will split the data using train_test_split\n",
    "from sklearn.model_selection import train_test_split\n",
    "#OPTIONAL: This is for evaluating a classification model\n",
    "from sklearn.metrics import confusion_matrix\n",
    "import cv2\n",
    "print(\"Libraries are Imported\")"
   ]
  },
  {
   "cell_type": "markdown",
   "metadata": {},
   "source": [
    "## 2. Preprocessing: Loading Digits Dataset\n",
    "We will Load here The Digits Dataset <br>\n",
    "We will then Load the $X$ values and $y$ values<br>"
   ]
  },
  {
   "cell_type": "code",
   "execution_count": 5,
   "metadata": {},
   "outputs": [
    {
     "name": "stdout",
     "output_type": "stream",
     "text": [
      "Data Successfully Preprocessed\n"
     ]
    }
   ],
   "source": [
    "#Load the IRIS dataset\n",
    "digits_dataset=ds.load_digits()\n",
    "#X is a DataFrame (Matrix/2D array) containing the features of the iris data \n",
    "X=pd.DataFrame(digits_dataset[\"data\"])\n",
    "#y contains the numeric value/label of each iris flower, respecting the order \n",
    "#y is a vector (Series/1D array)\n",
    "y=pd.Series(digits_dataset[\"target\"],name =\"digit\")\n",
    "feature_names = digits_dataset[\"feature_names\"]\n",
    "X.columns=feature_names\n",
    "print(\"Data Successfully Preprocessed\")"
   ]
  },
  {
   "cell_type": "markdown",
   "metadata": {},
   "source": [
    "### Counting observations"
   ]
  },
  {
   "cell_type": "code",
   "execution_count": null,
   "metadata": {},
   "outputs": [],
   "source": [
    "#This is an example of unrolling a list\n",
    "#The unrolled list is X.shape\n",
    "print(\"This Dataset contains {} obersvation(s)\\nEach observation has {} feature(s)\".format(*X.shape))"
   ]
  },
  {
   "cell_type": "markdown",
   "metadata": {},
   "source": [
    "### Viewing a sample of $X$\n",
    "Feel free to change the number of samples"
   ]
  },
  {
   "cell_type": "code",
   "execution_count": null,
   "metadata": {},
   "outputs": [],
   "source": [
    "X.head(12)"
   ]
  },
  {
   "cell_type": "markdown",
   "metadata": {},
   "source": [
    "### Viewing the first elements of $y$\n",
    "Feel free to change the number below"
   ]
  },
  {
   "cell_type": "code",
   "execution_count": null,
   "metadata": {},
   "outputs": [],
   "source": [
    "y.head(12)"
   ]
  },
  {
   "cell_type": "markdown",
   "metadata": {},
   "source": [
    "## 3. Analysing Data\n",
    "### Merging Tables\n",
    "To Analyse data, sometimes, it maybe simpler to combine the data to one table "
   ]
  },
  {
   "cell_type": "code",
   "execution_count": null,
   "metadata": {},
   "outputs": [],
   "source": [
    "U=pd.concat([X,y],axis=1)\n",
    "#To see the last 10 examples\n",
    "U.tail(10)"
   ]
  },
  {
   "cell_type": "markdown",
   "metadata": {},
   "source": [
    "### Plotting Digits"
   ]
  },
  {
   "cell_type": "code",
   "execution_count": null,
   "metadata": {},
   "outputs": [],
   "source": [
    "#Plot 1\n",
    "fig = plt.figure(figsize=(12,12))\n",
    "spec = grd.GridSpec(ncols=3,nrows=4)\n",
    "for i in range(3):\n",
    "    for j in range(3):\n",
    "        d=3*i+j\n",
    "        ax = fig.add_subplot(spec[i,j])\n",
    "        digit_matrix=np.reshape(X.iloc[d,:].to_numpy(),[8,8])\n",
    "        ax=sns.heatmap(digit_matrix,cmap=\"gray\",ax=ax,cbar=False,xticklabels=False,yticklabels=False)\n",
    "        ax.set_title(\"$Digit: {}$\".format(y[d]))\n",
    "ax = fig.add_subplot(spec[3,1])\n",
    "digit_matrix=np.reshape(X.iloc[9,:].to_numpy(),[8,8])\n",
    "ax=sns.heatmap(digit_matrix,cmap=\"gray\",ax=ax,cbar=False,xticklabels=False,yticklabels=False)\n",
    "ax.set_title(\"$Digit: {}$\".format(y[9]))"
   ]
  },
  {
   "cell_type": "markdown",
   "metadata": {},
   "source": [
    "## 4. Model Selection\n",
    "### Creating Train & Test Sets\n",
    "We will Create a training set that is used to fit our model<br>\n",
    "The training data is a random sample of size $70\\%$ of the iris dataset"
   ]
  },
  {
   "cell_type": "code",
   "execution_count": 6,
   "metadata": {},
   "outputs": [
    {
     "name": "stdout",
     "output_type": "stream",
     "text": [
      "Train/Test Data Successfully created\n"
     ]
    }
   ],
   "source": [
    "#This is an example of multiple return values in Python\n",
    "X_train,X_test,y_train,y_test=train_test_split(X,y,train_size=.7)\n",
    "print(\"Train/Test Data Successfully created\")"
   ]
  },
  {
   "cell_type": "markdown",
   "metadata": {},
   "source": [
    "### Creating & Fitting Model\n",
    "Here we will create two models: \n",
    "1. a LogisticRegression model\n",
    "2. an SVC model (Support Vector Classifier)\n",
    "\n",
    "We will fit each model against the <strong>training data</strong><br>\n",
    "Feel free to change the constant $C>0$ of each model and see how it affects accuarcy"
   ]
  },
  {
   "cell_type": "code",
   "execution_count": 7,
   "metadata": {},
   "outputs": [
    {
     "name": "stdout",
     "output_type": "stream",
     "text": [
      "Model is now Fit\n"
     ]
    },
    {
     "name": "stderr",
     "output_type": "stream",
     "text": [
      "C:\\Users\\Rami\\anaconda3\\envs\\workaround\\lib\\site-packages\\sklearn\\linear_model\\_logistic.py:764: ConvergenceWarning: lbfgs failed to converge (status=1):\n",
      "STOP: TOTAL NO. of ITERATIONS REACHED LIMIT.\n",
      "\n",
      "Increase the number of iterations (max_iter) or scale the data as shown in:\n",
      "    https://scikit-learn.org/stable/modules/preprocessing.html\n",
      "Please also refer to the documentation for alternative solver options:\n",
      "    https://scikit-learn.org/stable/modules/linear_model.html#logistic-regression\n",
      "  extra_warning_msg=_LOGISTIC_SOLVER_CONVERGENCE_MSG)\n"
     ]
    }
   ],
   "source": [
    "#Creating SVC Model\n",
    "svc_model = SVC(C=1)\n",
    "#Fitting Model\n",
    "svc_model.fit(X_train,y_train)\n",
    "\n",
    "#Creating LogisticRegression Model\n",
    "linear_model =LogisticRegression(C=1)\n",
    "#fitting linear model\n",
    "linear_model.fit(X_train,y_train)\n",
    "print(\"Model is now Fit\")"
   ]
  },
  {
   "cell_type": "markdown",
   "metadata": {},
   "source": [
    "## 5. Evaluating Model\n",
    "### a. Evaluating on the Testing Dataset\n",
    "We will evaluate the accuarcy of our model with the <strong>testing data</strong>"
   ]
  },
  {
   "cell_type": "code",
   "execution_count": null,
   "metadata": {},
   "outputs": [],
   "source": [
    "def evaluate_models(models,models_names,X_test,y_test):\n",
    "    fig,axs= plt.subplots(1,len(models),figsize=(15,6))\n",
    "    k=0\n",
    "    for model,name in zip(models,models_names):\n",
    "        accuarcy=model.score(X_test,y_test)\n",
    "        print(\"{} Model has an accuarcy of {:.3f}%\".format(name,100*accuarcy))\n",
    "        axs[k]\n",
    "        sns.heatmap(confusion_matrix(y_test,model.predict(X_test)),annot=True,xticklabels=y_name,yticklabels=y_name,ax=axs[k])\n",
    "        axs[k].set_title(\"{}: Relation Between Predicted Values & Correct Values\".format(name))\n",
    "        axs[k].set_ylabel(\"Correct Values\")\n",
    "        axs[k].set_xlabel(\"Predicted Values\");\n",
    "        k=k+1\n",
    "\n",
    "#This call will evaluate both models\n",
    "evaluate_models([???,???],[???,???],???,???)"
   ]
  },
  {
   "cell_type": "markdown",
   "metadata": {},
   "source": [
    "### b. Testing on other custom Images\n",
    "<table>\n",
    "    <tr>\n",
    "        <td><img src=\"Example3/0.bmp\" width=\"32\" height=\"32\"></td>         \n",
    "        <td><img src=\"Example3/2.png\" width=\"32\" height=\"32\"></td>         \n",
    "        <td><img src=\"Example3/3.png\" width=\"32\" height=\"32\"></td>\n",
    "    </tr>\n",
    "    <tr>\n",
    "        <td><img src=\"Example3/4.bmp\" width=\"32\" height=\"32\"></td>         \n",
    "        <td><img src=\"Example3/5.bmp\" width=\"32\" height=\"32\"></td>         \n",
    "        <td><img src=\"Example3/5_2.bmp\" width=\"32\" height=\"32\"></td>\n",
    "    </tr>\n",
    "    <tr>\n",
    "        <td><img src=\"Example3/6.bmp\" width=\"32\" height=\"32\"></td>         \n",
    "        <td><img src=\"Example3/7.bmp\" width=\"32\" height=\"32\"></td>         \n",
    "        <td><img src=\"Example3/7.jpg\" width=\"32\" height=\"32\"></td>\n",
    "    </tr>\n",
    "    <tr>\n",
    "        <td><img src=\"Example3/8.bmp\" width=\"32\" height=\"32\"></td>         \n",
    "        <td><img src=\"Example3/9.bmp\" width=\"32\" height=\"32\"></td>         \n",
    "        <td><img src=\"Example3/9.bmp\" width=\"32\" height=\"32\"></td>\n",
    "    </tr>\n",
    "</table>\n",
    "Well, such results may be outstandingly good. But does it generalise well to <strong>new data?</strong><br>\n",
    "We will test this <strong>model</strong> on some <strong>randomly</strong> chosen digit images from <strong>the internet.</strong>"
   ]
  },
  {
   "cell_type": "code",
   "execution_count": 8,
   "metadata": {},
   "outputs": [
    {
     "data": {
      "text/plain": [
       "0.16666666666666666"
      ]
     },
     "execution_count": 8,
     "metadata": {},
     "output_type": "execute_result"
    }
   ],
   "source": [
    "predictor= ImagePredictor(svc_model,(8,8),16)\n",
    "file_name_list=[\"2.png\",\"3.png\",\"8.jpg\",\"4.bmp\",\"5.bmp\",\"5_2.bmp\",\"6.bmp\",\"7.bmp\",\"7.jpg\",\"9.bmp\",\"9.jpg\",\"8.bmp\"]\n",
    "digit_values=np.array([2,3,8,4,5,5,6,7,7,9,9,8])\n",
    "imgs = np.array([cv2.resize(cv2.imread(\"Example3/{}\".format(s),cv2.IMREAD_GRAYSCALE),(28,28)) \n",
    "        for s in file_name_list])\n",
    "predictor.score(imgs,digit_values,invert=True)"
   ]
  },
  {
   "cell_type": "code",
   "execution_count": null,
   "metadata": {},
   "outputs": [],
   "source": []
  },
  {
   "cell_type": "markdown",
   "metadata": {},
   "source": [
    "# Improving Digit Prediction: MNIST Dataset (B)\n",
    "- This is way more <strong>advanced</strong> than what <strong>we have seen</strong>, so prepare yourself.\n",
    "- We <strong>recommend</strong> that you give it <strong>another try</strong> at your <strong>free time</strong>.<br>\n",
    "In this example we will work on Digit Recognition with the <strong>MNIST Dataset</strong>.<br>\n",
    "<p style=\"text-align:center;\"><img src=\"Example3/mnist_image.png\"></p><br>\n",
    "This Dataset contains for each image the values of its  784=28×28  greyscale pixels and the value of the Digit\n",
    "\n",
    "## 1. Importing MNIST\n",
    "### Reading from a CSV file\n",
    "The code below imports the <strong>MNIST dataset</strong> (both training and testing) from csv files.<br>\n",
    "It then shows a sample from the dataset"
   ]
  },
  {
   "cell_type": "code",
   "execution_count": 9,
   "metadata": {},
   "outputs": [
    {
     "data": {
      "text/html": [
       "<div>\n",
       "<style scoped>\n",
       "    .dataframe tbody tr th:only-of-type {\n",
       "        vertical-align: middle;\n",
       "    }\n",
       "\n",
       "    .dataframe tbody tr th {\n",
       "        vertical-align: top;\n",
       "    }\n",
       "\n",
       "    .dataframe thead th {\n",
       "        text-align: right;\n",
       "    }\n",
       "</style>\n",
       "<table border=\"1\" class=\"dataframe\">\n",
       "  <thead>\n",
       "    <tr style=\"text-align: right;\">\n",
       "      <th></th>\n",
       "      <th>label</th>\n",
       "      <th>1x1</th>\n",
       "      <th>1x2</th>\n",
       "      <th>1x3</th>\n",
       "      <th>1x4</th>\n",
       "      <th>1x5</th>\n",
       "      <th>1x6</th>\n",
       "      <th>1x7</th>\n",
       "      <th>1x8</th>\n",
       "      <th>1x9</th>\n",
       "      <th>...</th>\n",
       "      <th>28x19</th>\n",
       "      <th>28x20</th>\n",
       "      <th>28x21</th>\n",
       "      <th>28x22</th>\n",
       "      <th>28x23</th>\n",
       "      <th>28x24</th>\n",
       "      <th>28x25</th>\n",
       "      <th>28x26</th>\n",
       "      <th>28x27</th>\n",
       "      <th>28x28</th>\n",
       "    </tr>\n",
       "  </thead>\n",
       "  <tbody>\n",
       "    <tr>\n",
       "      <th>0</th>\n",
       "      <td>5</td>\n",
       "      <td>0</td>\n",
       "      <td>0</td>\n",
       "      <td>0</td>\n",
       "      <td>0</td>\n",
       "      <td>0</td>\n",
       "      <td>0</td>\n",
       "      <td>0</td>\n",
       "      <td>0</td>\n",
       "      <td>0</td>\n",
       "      <td>...</td>\n",
       "      <td>0</td>\n",
       "      <td>0</td>\n",
       "      <td>0</td>\n",
       "      <td>0</td>\n",
       "      <td>0</td>\n",
       "      <td>0</td>\n",
       "      <td>0</td>\n",
       "      <td>0</td>\n",
       "      <td>0</td>\n",
       "      <td>0</td>\n",
       "    </tr>\n",
       "    <tr>\n",
       "      <th>1</th>\n",
       "      <td>0</td>\n",
       "      <td>0</td>\n",
       "      <td>0</td>\n",
       "      <td>0</td>\n",
       "      <td>0</td>\n",
       "      <td>0</td>\n",
       "      <td>0</td>\n",
       "      <td>0</td>\n",
       "      <td>0</td>\n",
       "      <td>0</td>\n",
       "      <td>...</td>\n",
       "      <td>0</td>\n",
       "      <td>0</td>\n",
       "      <td>0</td>\n",
       "      <td>0</td>\n",
       "      <td>0</td>\n",
       "      <td>0</td>\n",
       "      <td>0</td>\n",
       "      <td>0</td>\n",
       "      <td>0</td>\n",
       "      <td>0</td>\n",
       "    </tr>\n",
       "    <tr>\n",
       "      <th>2</th>\n",
       "      <td>4</td>\n",
       "      <td>0</td>\n",
       "      <td>0</td>\n",
       "      <td>0</td>\n",
       "      <td>0</td>\n",
       "      <td>0</td>\n",
       "      <td>0</td>\n",
       "      <td>0</td>\n",
       "      <td>0</td>\n",
       "      <td>0</td>\n",
       "      <td>...</td>\n",
       "      <td>0</td>\n",
       "      <td>0</td>\n",
       "      <td>0</td>\n",
       "      <td>0</td>\n",
       "      <td>0</td>\n",
       "      <td>0</td>\n",
       "      <td>0</td>\n",
       "      <td>0</td>\n",
       "      <td>0</td>\n",
       "      <td>0</td>\n",
       "    </tr>\n",
       "    <tr>\n",
       "      <th>3</th>\n",
       "      <td>1</td>\n",
       "      <td>0</td>\n",
       "      <td>0</td>\n",
       "      <td>0</td>\n",
       "      <td>0</td>\n",
       "      <td>0</td>\n",
       "      <td>0</td>\n",
       "      <td>0</td>\n",
       "      <td>0</td>\n",
       "      <td>0</td>\n",
       "      <td>...</td>\n",
       "      <td>0</td>\n",
       "      <td>0</td>\n",
       "      <td>0</td>\n",
       "      <td>0</td>\n",
       "      <td>0</td>\n",
       "      <td>0</td>\n",
       "      <td>0</td>\n",
       "      <td>0</td>\n",
       "      <td>0</td>\n",
       "      <td>0</td>\n",
       "    </tr>\n",
       "    <tr>\n",
       "      <th>4</th>\n",
       "      <td>9</td>\n",
       "      <td>0</td>\n",
       "      <td>0</td>\n",
       "      <td>0</td>\n",
       "      <td>0</td>\n",
       "      <td>0</td>\n",
       "      <td>0</td>\n",
       "      <td>0</td>\n",
       "      <td>0</td>\n",
       "      <td>0</td>\n",
       "      <td>...</td>\n",
       "      <td>0</td>\n",
       "      <td>0</td>\n",
       "      <td>0</td>\n",
       "      <td>0</td>\n",
       "      <td>0</td>\n",
       "      <td>0</td>\n",
       "      <td>0</td>\n",
       "      <td>0</td>\n",
       "      <td>0</td>\n",
       "      <td>0</td>\n",
       "    </tr>\n",
       "    <tr>\n",
       "      <th>5</th>\n",
       "      <td>2</td>\n",
       "      <td>0</td>\n",
       "      <td>0</td>\n",
       "      <td>0</td>\n",
       "      <td>0</td>\n",
       "      <td>0</td>\n",
       "      <td>0</td>\n",
       "      <td>0</td>\n",
       "      <td>0</td>\n",
       "      <td>0</td>\n",
       "      <td>...</td>\n",
       "      <td>0</td>\n",
       "      <td>0</td>\n",
       "      <td>0</td>\n",
       "      <td>0</td>\n",
       "      <td>0</td>\n",
       "      <td>0</td>\n",
       "      <td>0</td>\n",
       "      <td>0</td>\n",
       "      <td>0</td>\n",
       "      <td>0</td>\n",
       "    </tr>\n",
       "    <tr>\n",
       "      <th>6</th>\n",
       "      <td>1</td>\n",
       "      <td>0</td>\n",
       "      <td>0</td>\n",
       "      <td>0</td>\n",
       "      <td>0</td>\n",
       "      <td>0</td>\n",
       "      <td>0</td>\n",
       "      <td>0</td>\n",
       "      <td>0</td>\n",
       "      <td>0</td>\n",
       "      <td>...</td>\n",
       "      <td>0</td>\n",
       "      <td>0</td>\n",
       "      <td>0</td>\n",
       "      <td>0</td>\n",
       "      <td>0</td>\n",
       "      <td>0</td>\n",
       "      <td>0</td>\n",
       "      <td>0</td>\n",
       "      <td>0</td>\n",
       "      <td>0</td>\n",
       "    </tr>\n",
       "    <tr>\n",
       "      <th>7</th>\n",
       "      <td>3</td>\n",
       "      <td>0</td>\n",
       "      <td>0</td>\n",
       "      <td>0</td>\n",
       "      <td>0</td>\n",
       "      <td>0</td>\n",
       "      <td>0</td>\n",
       "      <td>0</td>\n",
       "      <td>0</td>\n",
       "      <td>0</td>\n",
       "      <td>...</td>\n",
       "      <td>0</td>\n",
       "      <td>0</td>\n",
       "      <td>0</td>\n",
       "      <td>0</td>\n",
       "      <td>0</td>\n",
       "      <td>0</td>\n",
       "      <td>0</td>\n",
       "      <td>0</td>\n",
       "      <td>0</td>\n",
       "      <td>0</td>\n",
       "    </tr>\n",
       "    <tr>\n",
       "      <th>8</th>\n",
       "      <td>1</td>\n",
       "      <td>0</td>\n",
       "      <td>0</td>\n",
       "      <td>0</td>\n",
       "      <td>0</td>\n",
       "      <td>0</td>\n",
       "      <td>0</td>\n",
       "      <td>0</td>\n",
       "      <td>0</td>\n",
       "      <td>0</td>\n",
       "      <td>...</td>\n",
       "      <td>0</td>\n",
       "      <td>0</td>\n",
       "      <td>0</td>\n",
       "      <td>0</td>\n",
       "      <td>0</td>\n",
       "      <td>0</td>\n",
       "      <td>0</td>\n",
       "      <td>0</td>\n",
       "      <td>0</td>\n",
       "      <td>0</td>\n",
       "    </tr>\n",
       "    <tr>\n",
       "      <th>9</th>\n",
       "      <td>4</td>\n",
       "      <td>0</td>\n",
       "      <td>0</td>\n",
       "      <td>0</td>\n",
       "      <td>0</td>\n",
       "      <td>0</td>\n",
       "      <td>0</td>\n",
       "      <td>0</td>\n",
       "      <td>0</td>\n",
       "      <td>0</td>\n",
       "      <td>...</td>\n",
       "      <td>0</td>\n",
       "      <td>0</td>\n",
       "      <td>0</td>\n",
       "      <td>0</td>\n",
       "      <td>0</td>\n",
       "      <td>0</td>\n",
       "      <td>0</td>\n",
       "      <td>0</td>\n",
       "      <td>0</td>\n",
       "      <td>0</td>\n",
       "    </tr>\n",
       "  </tbody>\n",
       "</table>\n",
       "<p>10 rows × 785 columns</p>\n",
       "</div>"
      ],
      "text/plain": [
       "   label  1x1  1x2  1x3  1x4  1x5  1x6  1x7  1x8  1x9  ...  28x19  28x20  \\\n",
       "0      5    0    0    0    0    0    0    0    0    0  ...      0      0   \n",
       "1      0    0    0    0    0    0    0    0    0    0  ...      0      0   \n",
       "2      4    0    0    0    0    0    0    0    0    0  ...      0      0   \n",
       "3      1    0    0    0    0    0    0    0    0    0  ...      0      0   \n",
       "4      9    0    0    0    0    0    0    0    0    0  ...      0      0   \n",
       "5      2    0    0    0    0    0    0    0    0    0  ...      0      0   \n",
       "6      1    0    0    0    0    0    0    0    0    0  ...      0      0   \n",
       "7      3    0    0    0    0    0    0    0    0    0  ...      0      0   \n",
       "8      1    0    0    0    0    0    0    0    0    0  ...      0      0   \n",
       "9      4    0    0    0    0    0    0    0    0    0  ...      0      0   \n",
       "\n",
       "   28x21  28x22  28x23  28x24  28x25  28x26  28x27  28x28  \n",
       "0      0      0      0      0      0      0      0      0  \n",
       "1      0      0      0      0      0      0      0      0  \n",
       "2      0      0      0      0      0      0      0      0  \n",
       "3      0      0      0      0      0      0      0      0  \n",
       "4      0      0      0      0      0      0      0      0  \n",
       "5      0      0      0      0      0      0      0      0  \n",
       "6      0      0      0      0      0      0      0      0  \n",
       "7      0      0      0      0      0      0      0      0  \n",
       "8      0      0      0      0      0      0      0      0  \n",
       "9      0      0      0      0      0      0      0      0  \n",
       "\n",
       "[10 rows x 785 columns]"
      ]
     },
     "execution_count": 9,
     "metadata": {},
     "output_type": "execute_result"
    }
   ],
   "source": [
    "mnist_train=pd.read_csv(\"Example3/mnist_train.csv\")\n",
    "mnist_test=pd.read_csv(\"Example3/mnist_test.csv\")\n",
    "mnist_train.head(10)"
   ]
  },
  {
   "cell_type": "markdown",
   "metadata": {},
   "source": [
    "### Creating $X$ & $y$ arrays"
   ]
  },
  {
   "cell_type": "code",
   "execution_count": 10,
   "metadata": {},
   "outputs": [],
   "source": [
    "X_mnist_train = mnist_train[mnist_train.columns[1:]]\n",
    "y_mnist_train=mnist_train[\"label\"]\n",
    "X_mnist_test = mnist_test[mnist_test.columns[1:]]\n",
    "y_mnist_test=mnist_test[\"label\"]\n",
    "#To Save Some memory\n",
    "mnist_train=None\n",
    "mnist_test=None"
   ]
  },
  {
   "cell_type": "markdown",
   "metadata": {},
   "source": [
    "## 2. Viewing some digits"
   ]
  },
  {
   "cell_type": "code",
   "execution_count": 11,
   "metadata": {},
   "outputs": [
    {
     "data": {
      "image/png": "[encoded data removed]",
      "text/plain": [
       "<Figure size 864x576 with 20 Axes>"
      ]
     },
     "metadata": {},
     "output_type": "display_data"
    }
   ],
   "source": [
    "#Plot 1\n",
    "fig = plt.figure(figsize=(12,8))\n",
    "ncols=5\n",
    "nrows=4\n",
    "spec = grd.GridSpec(ncols=ncols,nrows=nrows)\n",
    "X_mnist_sample=X_mnist_train.sample(nrows*ncols)\n",
    "y_mnist_sample=y_mnist_train[X_mnist_sample.index]\n",
    "for i in range(nrows):\n",
    "    for j in range(ncols):\n",
    "        d=3*i+j\n",
    "        ax = fig.add_subplot(spec[i,j])\n",
    "        digit_matrix=np.reshape(X_mnist_sample.iloc[d,:].to_numpy(),[28,28])\n",
    "        ax=sns.heatmap(digit_matrix,cmap=\"gray\",ax=ax,cbar=False,xticklabels=False,yticklabels=False)\n",
    "        ax.set_title(\"$Digit: {}$\".format(y_mnist_sample.iloc[d]))"
   ]
  },
  {
   "cell_type": "markdown",
   "metadata": {},
   "source": [
    "## 3. Creating MNIST Models\n",
    "This can be considered an improvement of Example 3<br>\n",
    "### a. Model 1: <strong>a Pipeline</strong> (Classical Machine Learning)\n",
    "We will use a <strong>pipeline</strong> composed of a:\n",
    "- scaler: StandardScaler To scale data\n",
    "- dimensionality_reduction: PCA to remove non-necessary variables/pixels\n",
    "- predictor: SVC to fit and predict data\n",
    "\n",
    "this model will automatically scale data before every operation, which will ensure better performance especially for SVC models.<br>\n"
   ]
  },
  {
   "cell_type": "code",
   "execution_count": 12,
   "metadata": {},
   "outputs": [],
   "source": [
    "from sklearn.pipeline import Pipeline\n",
    "from sklearn.preprocessing import StandardScaler\n",
    "from sklearn.decomposition import PCA\n",
    "mnist_model = Pipeline([(\"scaler\",StandardScaler()),(\"dimensionality_reduction\",PCA(n_components=128)),(\"predictor\",SVC(C=1))])"
   ]
  },
  {
   "cell_type": "markdown",
   "metadata": {},
   "source": [
    "### b. Model 2: <strong>Convolutional Neural Network</strong>\n",
    "- A <strong>Convolutional Neural Network</strong> Is a neural network with some convolution layers\n",
    "- A <strong>convolution</strong> is an <strong>operation</strong> on <strong>image</strong> which <strong>gives</strong> an other <strong>image</strong>\n",
    "<br>\n",
    "<p style=\"text-align:center\">\"<img src=\"Example3/convolution_image.jpg\"></p>"
   ]
  },
  {
   "cell_type": "code",
   "execution_count": 13,
   "metadata": {},
   "outputs": [
    {
     "name": "stderr",
     "output_type": "stream",
     "text": [
      "Using TensorFlow backend.\n"
     ]
    }
   ],
   "source": [
    "import tensorflow as tf\n",
    "from tensorflow import keras\n",
    "from tensorflow.keras import layers\n",
    "from tensorflow.keras.optimizers import SGD\n",
    "from keras.utils import to_categorical\n",
    "import matplotlib.pyplot as plt\n",
    "\n",
    "model = tf.keras.Sequential([\n",
    "    tf.keras.layers.Conv2D(32,3,activation=\"relu\",input_shape=(28,28,1),kernel_initializer=\"he_uniform\"),\n",
    "    tf.keras.layers.BatchNormalization(),\n",
    "    tf.keras.layers.MaxPooling2D((2,2)),\n",
    "    tf.keras.layers.Flatten(),\n",
    "    tf.keras.layers.Dense(100,activation=\"relu\",kernel_initializer=\"he_uniform\"),\n",
    "        tf.keras.layers.BatchNormalization(),\n",
    "    tf.keras.layers.Dense(10,activation=\"softmax\")\n",
    "])"
   ]
  },
  {
   "cell_type": "markdown",
   "metadata": {},
   "source": [
    "## 4. Fitting Models\n",
    "### a. Fitting Model 1\n",
    "<h3 style=\"color:red;\"><strong>WARNING:</strong></h3>\n",
    "The training can take from <strong>$2$ minutes</strong> to <strong>$10$ minutes </strong>..<br>\n",
    "Maybe have a coffe with your friends?"
   ]
  },
  {
   "cell_type": "code",
   "execution_count": 14,
   "metadata": {},
   "outputs": [
    {
     "data": {
      "text/plain": [
       "Pipeline(steps=[('scaler', StandardScaler()),\n",
       "                ('dimensionality_reduction', PCA(n_components=128)),\n",
       "                ('predictor', SVC(C=1))])"
      ]
     },
     "execution_count": 14,
     "metadata": {},
     "output_type": "execute_result"
    }
   ],
   "source": [
    "mnist_model.fit(X_mnist_train,y_mnist_train)"
   ]
  },
  {
   "cell_type": "markdown",
   "metadata": {},
   "source": [
    "### b. Fitting Model 2\n",
    "This may seem like some <strong>cryptic code,</strong> but you will get used to it\n",
    "<h3 style=\"color:red;\"><strong>WARNING 2:</strong></h3>\n",
    "The training can take more than <strong>$30$ minutes </strong>..<br>\n",
    "Maybe have a coffe with your friends?"
   ]
  },
  {
   "cell_type": "code",
   "execution_count": 18,
   "metadata": {},
   "outputs": [
    {
     "name": "stdout",
     "output_type": "stream",
     "text": [
      "Epoch 1/10\n",
      "1875/1875 [==============================] - 61s 32ms/step - loss: 0.1291 - accuracy: 0.9611\n",
      "Epoch 2/10\n",
      "1875/1875 [==============================] - 62s 33ms/step - loss: 0.0471 - accuracy: 0.9860\n",
      "Epoch 3/10\n",
      "1875/1875 [==============================] - 62s 33ms/step - loss: 0.0275 - accuracy: 0.9915\n",
      "Epoch 4/10\n",
      "1875/1875 [==============================] - 61s 33ms/step - loss: 0.0223 - accuracy: 0.9932\n",
      "Epoch 5/10\n",
      "1875/1875 [==============================] - 63s 33ms/step - loss: 0.0159 - accuracy: 0.9952\n",
      "Epoch 6/10\n",
      "1875/1875 [==============================] - 62s 33ms/step - loss: 0.0110 - accuracy: 0.9971\n",
      "Epoch 7/10\n",
      "1875/1875 [==============================] - 63s 33ms/step - loss: 0.0080 - accuracy: 0.99790s - loss: 0.0080 - accuracy: \n",
      "Epoch 8/10\n",
      "1875/1875 [==============================] - 65s 35ms/step - loss: 0.0075 - accuracy: 0.9980\n",
      "Epoch 9/10\n",
      "1875/1875 [==============================] - 67s 36ms/step - loss: 0.0065 - accuracy: 0.9983\n",
      "Epoch 10/10\n",
      "1875/1875 [==============================] - 63s 34ms/step - loss: 0.0037 - accuracy: 0.9992\n"
     ]
    },
    {
     "data": {
      "text/plain": [
       "<tensorflow.python.keras.callbacks.History at 0x22f62e0d248>"
      ]
     },
     "execution_count": 18,
     "metadata": {},
     "output_type": "execute_result"
    }
   ],
   "source": [
    "model.compile(optimizer=SGD(lr=0.01,momentum=0.9),\n",
    "              loss=tf.keras.losses.CategoricalCrossentropy(from_logits=True),\n",
    "              metrics=['accuracy'])\n",
    "model.fit(np.reshape(X_mnist_train.to_numpy().astype(np.float32)/100,[X_mnist_train.shape[0],28,28,1]),\n",
    "          to_categorical(y_mnist_train.astype(np.float32)),epochs=10,batch_size=32)"
   ]
  },
  {
   "cell_type": "markdown",
   "metadata": {},
   "source": [
    "## 4. MNIST Model Evaluation\n",
    "### E"
   ]
  },
  {
   "cell_type": "code",
   "execution_count": 15,
   "metadata": {},
   "outputs": [
    {
     "data": {
      "text/plain": [
       "0.9702"
      ]
     },
     "execution_count": 15,
     "metadata": {},
     "output_type": "execute_result"
    }
   ],
   "source": [
    "mnist_model.score(X_mnist_test,y_mnist_test)"
   ]
  },
  {
   "cell_type": "code",
   "execution_count": 16,
   "metadata": {},
   "outputs": [
    {
     "data": {
      "text/plain": [
       "0.6666666666666666"
      ]
     },
     "execution_count": 16,
     "metadata": {},
     "output_type": "execute_result"
    }
   ],
   "source": [
    "mnist_digit_predictor=ImagePredictor(mnist_model,(28,28))\n",
    "mnist_digit_predictor.score(imgs,digit_values,255,invert=True)"
   ]
  },
  {
   "cell_type": "code",
   "execution_count": 19,
   "metadata": {},
   "outputs": [
    {
     "name": "stdout",
     "output_type": "stream",
     "text": [
      "313/313 [==============================] - 2s 6ms/step - loss: 147.5360 - accuracy: 0.7216\n"
     ]
    },
    {
     "data": {
      "text/plain": [
       "[147.53598022460938, 0.7215999960899353]"
      ]
     },
     "execution_count": 19,
     "metadata": {},
     "output_type": "execute_result"
    }
   ],
   "source": [
    "model.evaluate(np.reshape(X_mnist_test.to_numpy(),[X_mnist_test.shape[0],28,28,1]),to_categorical(y_mnist_test))"
   ]
  },
  {
   "cell_type": "code",
   "execution_count": 20,
   "metadata": {},
   "outputs": [
    {
     "data": {
      "text/plain": [
       "0.16666666666666666"
      ]
     },
     "execution_count": 20,
     "metadata": {},
     "output_type": "execute_result"
    }
   ],
   "source": [
    "(np.argmax(model.predict(np.reshape(imgs/100,[*imgs.shape,1])),axis=1)==digit_values).mean()"
   ]
  },
  {
   "cell_type": "code",
   "execution_count": null,
   "metadata": {},
   "outputs": [],
   "source": []
  },
  {
   "cell_type": "code",
   "execution_count": null,
   "metadata": {},
   "outputs": [],
   "source": []
  },
  {
   "cell_type": "code",
   "execution_count": null,
   "metadata": {},
   "outputs": [],
   "source": []
  }
 ],
 "metadata": {
  "kernelspec": {
   "display_name": "Python 3",
   "language": "python",
   "name": "python3"
  },
  "language_info": {
   "codemirror_mode": {
    "name": "ipython",
    "version": 3
   },
   "file_extension": ".py",
   "mimetype": "text/x-python",
   "name": "python",
   "nbconvert_exporter": "python",
   "pygments_lexer": "ipython3",
   "version": "3.8.5"
  }
 },
 "nbformat": 4,
 "nbformat_minor": 4
}
